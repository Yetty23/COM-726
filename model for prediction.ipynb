{
 "cells": [
  {
   "cell_type": "code",
   "execution_count": 1,
   "id": "530e6293",
   "metadata": {},
   "outputs": [
    {
     "name": "stdout",
     "output_type": "stream",
     "text": [
      "Requirement already satisfied: streamlit in c:\\users\\potab\\anaconda3\\lib\\site-packages (1.38.0)\n",
      "Requirement already satisfied: altair<6,>=4.0 in c:\\users\\potab\\anaconda3\\lib\\site-packages (from streamlit) (5.3.0)\n",
      "Requirement already satisfied: blinker<2,>=1.0.0 in c:\\users\\potab\\anaconda3\\lib\\site-packages (from streamlit) (1.8.2)\n",
      "Requirement already satisfied: cachetools<6,>=4.0 in c:\\users\\potab\\anaconda3\\lib\\site-packages (from streamlit) (5.3.2)\n",
      "Requirement already satisfied: click<9,>=7.0 in c:\\users\\potab\\anaconda3\\lib\\site-packages (from streamlit) (8.0.4)\n",
      "Requirement already satisfied: numpy<3,>=1.20 in c:\\users\\potab\\anaconda3\\lib\\site-packages (from streamlit) (1.24.3)\n",
      "Requirement already satisfied: packaging<25,>=20 in c:\\users\\potab\\anaconda3\\lib\\site-packages (from streamlit) (23.0)\n",
      "Requirement already satisfied: pandas<3,>=1.3.0 in c:\\users\\potab\\anaconda3\\lib\\site-packages (from streamlit) (2.2.2)\n",
      "Requirement already satisfied: pillow<11,>=7.1.0 in c:\\users\\potab\\anaconda3\\lib\\site-packages (from streamlit) (9.4.0)\n",
      "Requirement already satisfied: protobuf<6,>=3.20 in c:\\users\\potab\\anaconda3\\lib\\site-packages (from streamlit) (4.23.4)\n",
      "Requirement already satisfied: pyarrow>=7.0 in c:\\users\\potab\\anaconda3\\lib\\site-packages (from streamlit) (11.0.0)\n",
      "Requirement already satisfied: requests<3,>=2.27 in c:\\users\\potab\\anaconda3\\lib\\site-packages (from streamlit) (2.31.0)\n",
      "Requirement already satisfied: rich<14,>=10.14.0 in c:\\users\\potab\\anaconda3\\lib\\site-packages (from streamlit) (13.7.1)\n",
      "Requirement already satisfied: tenacity<9,>=8.1.0 in c:\\users\\potab\\anaconda3\\lib\\site-packages (from streamlit) (8.2.2)\n",
      "Requirement already satisfied: toml<2,>=0.10.1 in c:\\users\\potab\\anaconda3\\lib\\site-packages (from streamlit) (0.10.2)\n",
      "Requirement already satisfied: typing-extensions<5,>=4.3.0 in c:\\users\\potab\\anaconda3\\lib\\site-packages (from streamlit) (4.12.2)\n",
      "Requirement already satisfied: gitpython!=3.1.19,<4,>=3.0.7 in c:\\users\\potab\\anaconda3\\lib\\site-packages (from streamlit) (3.1.43)\n",
      "Requirement already satisfied: pydeck<1,>=0.8.0b4 in c:\\users\\potab\\anaconda3\\lib\\site-packages (from streamlit) (0.9.1)\n",
      "Requirement already satisfied: tornado<7,>=6.0.3 in c:\\users\\potab\\anaconda3\\lib\\site-packages (from streamlit) (6.3.2)\n",
      "Requirement already satisfied: watchdog<5,>=2.1.5 in c:\\users\\potab\\anaconda3\\lib\\site-packages (from streamlit) (2.1.6)\n",
      "Requirement already satisfied: jinja2 in c:\\users\\potab\\anaconda3\\lib\\site-packages (from altair<6,>=4.0->streamlit) (3.1.2)\n",
      "Requirement already satisfied: jsonschema>=3.0 in c:\\users\\potab\\anaconda3\\lib\\site-packages (from altair<6,>=4.0->streamlit) (4.17.3)\n",
      "Requirement already satisfied: toolz in c:\\users\\potab\\anaconda3\\lib\\site-packages (from altair<6,>=4.0->streamlit) (0.12.0)\n",
      "Requirement already satisfied: colorama in c:\\users\\potab\\anaconda3\\lib\\site-packages (from click<9,>=7.0->streamlit) (0.4.6)\n",
      "Requirement already satisfied: gitdb<5,>=4.0.1 in c:\\users\\potab\\anaconda3\\lib\\site-packages (from gitpython!=3.1.19,<4,>=3.0.7->streamlit) (4.0.11)\n",
      "Requirement already satisfied: python-dateutil>=2.8.2 in c:\\users\\potab\\anaconda3\\lib\\site-packages (from pandas<3,>=1.3.0->streamlit) (2.8.2)\n",
      "Requirement already satisfied: pytz>=2020.1 in c:\\users\\potab\\anaconda3\\lib\\site-packages (from pandas<3,>=1.3.0->streamlit) (2022.7)\n",
      "Requirement already satisfied: tzdata>=2022.7 in c:\\users\\potab\\anaconda3\\lib\\site-packages (from pandas<3,>=1.3.0->streamlit) (2024.1)\n",
      "Requirement already satisfied: charset-normalizer<4,>=2 in c:\\users\\potab\\anaconda3\\lib\\site-packages (from requests<3,>=2.27->streamlit) (2.0.4)\n",
      "Requirement already satisfied: idna<4,>=2.5 in c:\\users\\potab\\anaconda3\\lib\\site-packages (from requests<3,>=2.27->streamlit) (3.4)\n",
      "Requirement already satisfied: urllib3<3,>=1.21.1 in c:\\users\\potab\\anaconda3\\lib\\site-packages (from requests<3,>=2.27->streamlit) (1.26.16)\n",
      "Requirement already satisfied: certifi>=2017.4.17 in c:\\users\\potab\\anaconda3\\lib\\site-packages (from requests<3,>=2.27->streamlit) (2023.7.22)\n",
      "Requirement already satisfied: markdown-it-py>=2.2.0 in c:\\users\\potab\\anaconda3\\lib\\site-packages (from rich<14,>=10.14.0->streamlit) (2.2.0)\n",
      "Requirement already satisfied: pygments<3.0.0,>=2.13.0 in c:\\users\\potab\\anaconda3\\lib\\site-packages (from rich<14,>=10.14.0->streamlit) (2.15.1)\n",
      "Requirement already satisfied: smmap<6,>=3.0.1 in c:\\users\\potab\\anaconda3\\lib\\site-packages (from gitdb<5,>=4.0.1->gitpython!=3.1.19,<4,>=3.0.7->streamlit) (5.0.1)\n",
      "Requirement already satisfied: MarkupSafe>=2.0 in c:\\users\\potab\\anaconda3\\lib\\site-packages (from jinja2->altair<6,>=4.0->streamlit) (2.1.1)\n",
      "Requirement already satisfied: attrs>=17.4.0 in c:\\users\\potab\\anaconda3\\lib\\site-packages (from jsonschema>=3.0->altair<6,>=4.0->streamlit) (22.1.0)\n",
      "Requirement already satisfied: pyrsistent!=0.17.0,!=0.17.1,!=0.17.2,>=0.14.0 in c:\\users\\potab\\anaconda3\\lib\\site-packages (from jsonschema>=3.0->altair<6,>=4.0->streamlit) (0.18.0)\n",
      "Requirement already satisfied: mdurl~=0.1 in c:\\users\\potab\\anaconda3\\lib\\site-packages (from markdown-it-py>=2.2.0->rich<14,>=10.14.0->streamlit) (0.1.0)\n",
      "Requirement already satisfied: six>=1.5 in c:\\users\\potab\\anaconda3\\lib\\site-packages (from python-dateutil>=2.8.2->pandas<3,>=1.3.0->streamlit) (1.16.0)\n"
     ]
    }
   ],
   "source": [
    "!pip install streamlit\n",
    "\n"
   ]
  },
  {
   "cell_type": "code",
   "execution_count": 2,
   "id": "779fb4f6",
   "metadata": {},
   "outputs": [
    {
     "name": "stderr",
     "output_type": "stream",
     "text": [
      "C:\\Users\\potab\\anaconda3\\Lib\\site-packages\\pandas\\core\\arrays\\masked.py:60: UserWarning: Pandas requires version '1.3.6' or newer of 'bottleneck' (version '1.3.5' currently installed).\n",
      "  from pandas.core import (\n",
      "C:\\Users\\potab\\anaconda3\\Lib\\site-packages\\keras\\src\\layers\\core\\dense.py:87: UserWarning: Do not pass an `input_shape`/`input_dim` argument to a layer. When using Sequential models, prefer using an `Input(shape)` object as the first layer in the model instead.\n",
      "  super().__init__(activity_regularizer=activity_regularizer, **kwargs)\n",
      "WARNING:absl:Compiled the loaded model, but the compiled metrics have yet to be built. `model.compile_metrics` will be empty until you train or evaluate the model.\n",
      "WARNING:absl:Error in loading the saved optimizer state. As a result, your model is starting with a freshly initialized optimizer.\n"
     ]
    },
    {
     "name": "stdout",
     "output_type": "stream",
     "text": [
      " * Serving Flask app '__main__'\n",
      " * Debug mode: on\n"
     ]
    },
    {
     "name": "stderr",
     "output_type": "stream",
     "text": [
      "INFO:werkzeug:\u001b[31m\u001b[1mWARNING: This is a development server. Do not use it in a production deployment. Use a production WSGI server instead.\u001b[0m\n",
      " * Running on http://127.0.0.1:5000\n",
      "INFO:werkzeug:\u001b[33mPress CTRL+C to quit\u001b[0m\n",
      "INFO:werkzeug: * Restarting with watchdog (windowsapi)\n"
     ]
    },
    {
     "ename": "SystemExit",
     "evalue": "1",
     "output_type": "error",
     "traceback": [
      "An exception has occurred, use %tb to see the full traceback.\n",
      "\u001b[1;31mSystemExit\u001b[0m\u001b[1;31m:\u001b[0m 1\n"
     ]
    },
    {
     "name": "stderr",
     "output_type": "stream",
     "text": [
      "C:\\Users\\potab\\anaconda3\\Lib\\site-packages\\IPython\\core\\interactiveshell.py:3513: UserWarning: To exit: use 'exit', 'quit', or Ctrl-D.\n",
      "  warn(\"To exit: use 'exit', 'quit', or Ctrl-D.\", stacklevel=1)\n"
     ]
    }
   ],
   "source": [
    "from flask import Flask, request, jsonify, render_template\n",
    "import joblib\n",
    "import numpy as np\n",
    "import pandas as pd\n",
    "from sklearn.preprocessing import StandardScaler\n",
    "import tensorflow as tf\n",
    "\n",
    "# Load the trained models\n",
    "log_reg_model = joblib.load('Logistic_Regression.joblib')\n",
    "rf_model = joblib.load('Random_Forest.joblib')\n",
    "gb_model = joblib.load('Gradient_Boosting.joblib')\n",
    "nn_model = tf.keras.models.load_model('Neural_Network.h5')\n",
    "\n",
    "# Load the dataset to fit the scaler (assuming the dataset file is available)\n",
    "file_path = 'heart_failure_clinical_records_dataset.csv'\n",
    "data = pd.read_csv(file_path)\n",
    "X = data.drop(columns=['DEATH_EVENT'])\n",
    "\n",
    "# Create a Flask app\n",
    "app = Flask(__name__)\n",
    "\n",
    "# Define the home route\n",
    "@app.route('/')\n",
    "def home():\n",
    "    return render_template('index.html')\n",
    "\n",
    "# Define the prediction route\n",
    "@app.route('/predict', methods=['POST'])\n",
    "def predict():\n",
    "    # Get user input from the form\n",
    "    model_choice = request.form['model']\n",
    "    age = float(request.form['age'])\n",
    "    anaemia = int(request.form['anaemia'])\n",
    "    creatinine_phosphokinase = float(request.form['creatinine_phosphokinase'])\n",
    "    diabetes = int(request.form['diabetes'])\n",
    "    ejection_fraction = float(request.form['ejection_fraction'])\n",
    "    high_blood_pressure = int(request.form['high_blood_pressure'])\n",
    "    platelets = float(request.form['platelets'])\n",
    "    serum_creatinine = float(request.form['serum_creatinine'])\n",
    "    serum_sodium = float(request.form['serum_sodium'])\n",
    "    sex = int(request.form['sex'])\n",
    "    smoking = int(request.form['smoking'])\n",
    "    time = float(request.form['time'])\n",
    "\n",
    "    # Create an array of the input values\n",
    "    input_data = np.array([[age, anaemia, creatinine_phosphokinase, diabetes, ejection_fraction,\n",
    "                            high_blood_pressure, platelets, serum_creatinine, serum_sodium, sex,\n",
    "                            smoking, time]])\n",
    "\n",
    "    # Scale the input data\n",
    "    scaler = StandardScaler()\n",
    "    scaler.fit(X)\n",
    "    input_data_scaled = scaler.transform(input_data)\n",
    "\n",
    "    # Predict using the selected model\n",
    "    if model_choice == 'Logistic Regression':\n",
    "        pred = log_reg_model.predict(input_data_scaled)\n",
    "    elif model_choice == 'Random Forest':\n",
    "        pred = rf_model.predict(input_data_scaled)\n",
    "    elif model_choice == 'Gradient Boosting':\n",
    "        pred = gb_model.predict(input_data_scaled)\n",
    "    elif model_choice == 'Neural Network':\n",
    "        pred = (nn_model.predict(input_data_scaled) > 0.5).astype(\"int32\")\n",
    "\n",
    "    result = int(pred[0]) if model_choice != 'Neural Network' else int(pred[0][0])\n",
    "\n",
    "    return jsonify({'prediction': result})\n",
    "\n",
    "if __name__ == '__main__':\n",
    "    app.run(debug=True)\n"
   ]
  },
  {
   "cell_type": "code",
   "execution_count": null,
   "id": "8d30a68d",
   "metadata": {},
   "outputs": [],
   "source": [
    "<!DOCTYPE html>\n",
    "<html>\n",
    "<head>\n",
    "    <title>Readmission Prediction</title>\n",
    "</head>\n",
    "<body>\n",
    "    <h1>Predict Hospital Readmission</h1>\n",
    "    <form id=\"prediction-form\">\n",
    "        <label>Age:</label>\n",
    "        <input type=\"number\" name=\"age\" step=\"any\" required><br>\n",
    "        <label>Anaemia (0 or 1):</label>\n",
    "        <input type=\"number\" name=\"anaemia\" min=\"0\" max=\"1\" required><br>\n",
    "        <label>Creatinine Phosphokinase:</label>\n",
    "        <input type=\"number\" name=\"creatinine_phosphokinase\" step=\"any\" required><br>\n",
    "        <label>Diabetes (0 or 1):</label>\n",
    "        <input type=\"number\" name=\"diabetes\" min=\"0\" max=\"1\" required><br>\n",
    "        <label>Ejection Fraction:</label>\n",
    "        <input type=\"number\" name=\"ejection_fraction\" step=\"any\" required><br>\n",
    "        <label>High Blood Pressure (0 or 1):</label>\n",
    "        <input type=\"number\" name=\"high_blood_pressure\" min=\"0\" max=\"1\" required><br>\n",
    "        <label>Platelets:</label>\n",
    "        <input type=\"number\" name=\"platelets\" step=\"any\" required><br>\n",
    "        <label>Serum Creatinine:</label>\n",
    "        <input type=\"number\" name=\"serum_creatinine\" step=\"any\" required><br>\n",
    "        <label>Serum Sodium:</label>\n",
    "        <input type=\"number\" name=\"serum_sodium\" step=\"any\" required><br>\n",
    "        <label>Sex (0 or 1):</label>\n",
    "        <input type=\"number\" name=\"sex\" min=\"0\" max=\"1\" required><br>\n",
    "        <label>Smoking (0 or 1):</label>\n",
    "        <input type=\"number\" name=\"smoking\" min=\"0\" max=\"1\" required><br>\n",
    "        <label>Time:</label>\n",
    "        <input type=\"number\" name=\"time\" step=\"any\" required><br>\n",
    "        <label>Select Model:</label>\n",
    "        <select name=\"model\" required>\n",
    "            <option value=\"Logistic Regression\">Logistic Regression</option>\n",
    "            <option value=\"Random Forest\">Random Forest</option>\n",
    "            <option value=\"Gradient Boosting\">Gradient Boosting</option>\n",
    "            <option value=\"Neural Network\">Neural Network</option>\n",
    "        </select><br>\n",
    "        <input type=\"submit\" value=\"Predict\">\n",
    "    </form>\n",
    "    <div id=\"results\"></div>\n",
    "</body>\n",
    "<script>\n",
    "    document.getElementById('prediction-form').onsubmit = async function(event) {\n",
    "        event.preventDefault();\n",
    "        const formData = new FormData(this);\n",
    "        const response = await fetch('/predict', {\n",
    "            method: 'POST',\n",
    "            body: formData\n",
    "        });\n",
    "        const result = await response.json();\n",
    "        document.getElementById('results').innerText = `Prediction: ${result.prediction}`;\n",
    "    };\n",
    "</script>\n",
    "</html>\n"
   ]
  },
  {
   "cell_type": "code",
   "execution_count": null,
   "id": "bab67424",
   "metadata": {},
   "outputs": [],
   "source": []
  },
  {
   "cell_type": "code",
   "execution_count": null,
   "id": "daed2f83",
   "metadata": {},
   "outputs": [],
   "source": [
    "joblib.dump(scaler, 'scaler.joblib')\n",
    "joblib.dump(log_reg_model, 'Logistic_Regression.joblib')\n",
    "joblib.dump(rf_model, 'Random_Forest.joblib')\n",
    "joblib.dump(gb_model, 'Gradient_Boosting.joblib')\n",
    "nn_model.save('Neural_Network.h5')\n"
   ]
  },
  {
   "cell_type": "code",
   "execution_count": null,
   "id": "26601e81",
   "metadata": {},
   "outputs": [],
   "source": [
    "python app.py\n"
   ]
  }
 ],
 "metadata": {
  "kernelspec": {
   "display_name": "Python 3 (ipykernel)",
   "language": "python",
   "name": "python3"
  },
  "language_info": {
   "codemirror_mode": {
    "name": "ipython",
    "version": 3
   },
   "file_extension": ".py",
   "mimetype": "text/x-python",
   "name": "python",
   "nbconvert_exporter": "python",
   "pygments_lexer": "ipython3",
   "version": "3.11.4"
  }
 },
 "nbformat": 4,
 "nbformat_minor": 5
}
